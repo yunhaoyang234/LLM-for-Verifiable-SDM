{
 "cells": [
  {
   "cell_type": "code",
   "execution_count": 1,
   "metadata": {
    "colab": {
     "base_uri": "https://localhost:8080/"
    },
    "id": "9DLIsSwswVU9",
    "outputId": "1e0c7ab1-38fb-412a-d832-648fae842349"
   },
   "outputs": [
    {
     "name": "stdout",
     "output_type": "stream",
     "text": [
      "Requirement already satisfied: spaCy in /usr/local/lib/python3.10/dist-packages (3.6.1)\n",
      "Requirement already satisfied: spacy-legacy<3.1.0,>=3.0.11 in /usr/local/lib/python3.10/dist-packages (from spaCy) (3.0.12)\n",
      "Requirement already satisfied: spacy-loggers<2.0.0,>=1.0.0 in /usr/local/lib/python3.10/dist-packages (from spaCy) (1.0.5)\n",
      "Requirement already satisfied: murmurhash<1.1.0,>=0.28.0 in /usr/local/lib/python3.10/dist-packages (from spaCy) (1.0.10)\n",
      "Requirement already satisfied: cymem<2.1.0,>=2.0.2 in /usr/local/lib/python3.10/dist-packages (from spaCy) (2.0.8)\n",
      "Requirement already satisfied: preshed<3.1.0,>=3.0.2 in /usr/local/lib/python3.10/dist-packages (from spaCy) (3.0.9)\n",
      "Requirement already satisfied: thinc<8.2.0,>=8.1.8 in /usr/local/lib/python3.10/dist-packages (from spaCy) (8.1.12)\n",
      "Requirement already satisfied: wasabi<1.2.0,>=0.9.1 in /usr/local/lib/python3.10/dist-packages (from spaCy) (1.1.2)\n",
      "Requirement already satisfied: srsly<3.0.0,>=2.4.3 in /usr/local/lib/python3.10/dist-packages (from spaCy) (2.4.8)\n",
      "Requirement already satisfied: catalogue<2.1.0,>=2.0.6 in /usr/local/lib/python3.10/dist-packages (from spaCy) (2.0.10)\n",
      "Requirement already satisfied: typer<0.10.0,>=0.3.0 in /usr/local/lib/python3.10/dist-packages (from spaCy) (0.9.0)\n",
      "Requirement already satisfied: pathy>=0.10.0 in /usr/local/lib/python3.10/dist-packages (from spaCy) (0.10.2)\n",
      "Requirement already satisfied: smart-open<7.0.0,>=5.2.1 in /usr/local/lib/python3.10/dist-packages (from spaCy) (6.4.0)\n",
      "Requirement already satisfied: tqdm<5.0.0,>=4.38.0 in /usr/local/lib/python3.10/dist-packages (from spaCy) (4.66.1)\n",
      "Requirement already satisfied: numpy>=1.15.0 in /usr/local/lib/python3.10/dist-packages (from spaCy) (1.23.5)\n",
      "Requirement already satisfied: requests<3.0.0,>=2.13.0 in /usr/local/lib/python3.10/dist-packages (from spaCy) (2.31.0)\n",
      "Requirement already satisfied: pydantic!=1.8,!=1.8.1,<3.0.0,>=1.7.4 in /usr/local/lib/python3.10/dist-packages (from spaCy) (1.10.13)\n",
      "Requirement already satisfied: jinja2 in /usr/local/lib/python3.10/dist-packages (from spaCy) (3.1.2)\n",
      "Requirement already satisfied: setuptools in /usr/local/lib/python3.10/dist-packages (from spaCy) (67.7.2)\n",
      "Requirement already satisfied: packaging>=20.0 in /usr/local/lib/python3.10/dist-packages (from spaCy) (23.2)\n",
      "Requirement already satisfied: langcodes<4.0.0,>=3.2.0 in /usr/local/lib/python3.10/dist-packages (from spaCy) (3.3.0)\n",
      "Requirement already satisfied: typing-extensions>=4.2.0 in /usr/local/lib/python3.10/dist-packages (from pydantic!=1.8,!=1.8.1,<3.0.0,>=1.7.4->spaCy) (4.5.0)\n",
      "Requirement already satisfied: charset-normalizer<4,>=2 in /usr/local/lib/python3.10/dist-packages (from requests<3.0.0,>=2.13.0->spaCy) (3.3.0)\n",
      "Requirement already satisfied: idna<4,>=2.5 in /usr/local/lib/python3.10/dist-packages (from requests<3.0.0,>=2.13.0->spaCy) (3.4)\n",
      "Requirement already satisfied: urllib3<3,>=1.21.1 in /usr/local/lib/python3.10/dist-packages (from requests<3.0.0,>=2.13.0->spaCy) (2.0.6)\n",
      "Requirement already satisfied: certifi>=2017.4.17 in /usr/local/lib/python3.10/dist-packages (from requests<3.0.0,>=2.13.0->spaCy) (2023.7.22)\n",
      "Requirement already satisfied: blis<0.8.0,>=0.7.8 in /usr/local/lib/python3.10/dist-packages (from thinc<8.2.0,>=8.1.8->spaCy) (0.7.11)\n",
      "Requirement already satisfied: confection<1.0.0,>=0.0.1 in /usr/local/lib/python3.10/dist-packages (from thinc<8.2.0,>=8.1.8->spaCy) (0.1.3)\n",
      "Requirement already satisfied: click<9.0.0,>=7.1.1 in /usr/local/lib/python3.10/dist-packages (from typer<0.10.0,>=0.3.0->spaCy) (8.1.7)\n",
      "Requirement already satisfied: MarkupSafe>=2.0 in /usr/local/lib/python3.10/dist-packages (from jinja2->spaCy) (2.1.3)\n"
     ]
    }
   ],
   "source": [
    "!pip install spaCy\n",
    "import numpy as np\n",
    "import re\n",
    "import spacy\n",
    "from spacy import displacy"
   ]
  },
  {
   "cell_type": "code",
   "execution_count": 2,
   "metadata": {
    "colab": {
     "base_uri": "https://localhost:8080/",
     "height": 1000
    },
    "id": "dkK4vsP6Pwsz",
    "outputId": "0b0b21a7-64d6-442d-e4b7-45de95458c92"
   },
   "outputs": [
    {
     "data": {
      "text/html": [
       "<span class=\"tex2jax_ignore\"><svg xmlns=\"http://www.w3.org/2000/svg\" xmlns:xlink=\"http://www.w3.org/1999/xlink\" xml:lang=\"en\" id=\"59a8b3c0aaa848b9af6d8e63fd5d28f5-0\" class=\"displacy\" width=\"1450\" height=\"399.5\" direction=\"ltr\" style=\"max-width: none; height: 399.5px; color: #000000; background: #ffffff; font-family: Arial; direction: ltr\">\n",
       "<text class=\"displacy-token\" fill=\"currentColor\" text-anchor=\"middle\" y=\"309.5\">\n",
       "    <tspan class=\"displacy-word\" fill=\"currentColor\" x=\"50\">do</tspan>\n",
       "    <tspan class=\"displacy-tag\" dy=\"2em\" fill=\"currentColor\" x=\"50\">AUX</tspan>\n",
       "</text>\n",
       "\n",
       "<text class=\"displacy-token\" fill=\"currentColor\" text-anchor=\"middle\" y=\"309.5\">\n",
       "    <tspan class=\"displacy-word\" fill=\"currentColor\" x=\"225\">not</tspan>\n",
       "    <tspan class=\"displacy-tag\" dy=\"2em\" fill=\"currentColor\" x=\"225\">PART</tspan>\n",
       "</text>\n",
       "\n",
       "<text class=\"displacy-token\" fill=\"currentColor\" text-anchor=\"middle\" y=\"309.5\">\n",
       "    <tspan class=\"displacy-word\" fill=\"currentColor\" x=\"400\">cross</tspan>\n",
       "    <tspan class=\"displacy-tag\" dy=\"2em\" fill=\"currentColor\" x=\"400\">VERB</tspan>\n",
       "</text>\n",
       "\n",
       "<text class=\"displacy-token\" fill=\"currentColor\" text-anchor=\"middle\" y=\"309.5\">\n",
       "    <tspan class=\"displacy-word\" fill=\"currentColor\" x=\"575\">road</tspan>\n",
       "    <tspan class=\"displacy-tag\" dy=\"2em\" fill=\"currentColor\" x=\"575\">NOUN</tspan>\n",
       "</text>\n",
       "\n",
       "<text class=\"displacy-token\" fill=\"currentColor\" text-anchor=\"middle\" y=\"309.5\">\n",
       "    <tspan class=\"displacy-word\" fill=\"currentColor\" x=\"750\">until</tspan>\n",
       "    <tspan class=\"displacy-tag\" dy=\"2em\" fill=\"currentColor\" x=\"750\">SCONJ</tspan>\n",
       "</text>\n",
       "\n",
       "<text class=\"displacy-token\" fill=\"currentColor\" text-anchor=\"middle\" y=\"309.5\">\n",
       "    <tspan class=\"displacy-word\" fill=\"currentColor\" x=\"925\">the</tspan>\n",
       "    <tspan class=\"displacy-tag\" dy=\"2em\" fill=\"currentColor\" x=\"925\">DET</tspan>\n",
       "</text>\n",
       "\n",
       "<text class=\"displacy-token\" fill=\"currentColor\" text-anchor=\"middle\" y=\"309.5\">\n",
       "    <tspan class=\"displacy-word\" fill=\"currentColor\" x=\"1100\">car</tspan>\n",
       "    <tspan class=\"displacy-tag\" dy=\"2em\" fill=\"currentColor\" x=\"1100\">NOUN</tspan>\n",
       "</text>\n",
       "\n",
       "<text class=\"displacy-token\" fill=\"currentColor\" text-anchor=\"middle\" y=\"309.5\">\n",
       "    <tspan class=\"displacy-word\" fill=\"currentColor\" x=\"1275\">pass</tspan>\n",
       "    <tspan class=\"displacy-tag\" dy=\"2em\" fill=\"currentColor\" x=\"1275\">VERB</tspan>\n",
       "</text>\n",
       "\n",
       "<g class=\"displacy-arrow\">\n",
       "    <path class=\"displacy-arc\" id=\"arrow-59a8b3c0aaa848b9af6d8e63fd5d28f5-0-0\" stroke-width=\"2px\" d=\"M70,264.5 C70,89.5 395.0,89.5 395.0,264.5\" fill=\"none\" stroke=\"currentColor\"/>\n",
       "    <text dy=\"1.25em\" style=\"font-size: 0.8em; letter-spacing: 1px\">\n",
       "        <textPath xlink:href=\"#arrow-59a8b3c0aaa848b9af6d8e63fd5d28f5-0-0\" class=\"displacy-label\" startOffset=\"50%\" side=\"left\" fill=\"currentColor\" text-anchor=\"middle\">aux</textPath>\n",
       "    </text>\n",
       "    <path class=\"displacy-arrowhead\" d=\"M70,266.5 L62,254.5 78,254.5\" fill=\"currentColor\"/>\n",
       "</g>\n",
       "\n",
       "<g class=\"displacy-arrow\">\n",
       "    <path class=\"displacy-arc\" id=\"arrow-59a8b3c0aaa848b9af6d8e63fd5d28f5-0-1\" stroke-width=\"2px\" d=\"M245,264.5 C245,177.0 390.0,177.0 390.0,264.5\" fill=\"none\" stroke=\"currentColor\"/>\n",
       "    <text dy=\"1.25em\" style=\"font-size: 0.8em; letter-spacing: 1px\">\n",
       "        <textPath xlink:href=\"#arrow-59a8b3c0aaa848b9af6d8e63fd5d28f5-0-1\" class=\"displacy-label\" startOffset=\"50%\" side=\"left\" fill=\"currentColor\" text-anchor=\"middle\">neg</textPath>\n",
       "    </text>\n",
       "    <path class=\"displacy-arrowhead\" d=\"M245,266.5 L237,254.5 253,254.5\" fill=\"currentColor\"/>\n",
       "</g>\n",
       "\n",
       "<g class=\"displacy-arrow\">\n",
       "    <path class=\"displacy-arc\" id=\"arrow-59a8b3c0aaa848b9af6d8e63fd5d28f5-0-2\" stroke-width=\"2px\" d=\"M420,264.5 C420,177.0 565.0,177.0 565.0,264.5\" fill=\"none\" stroke=\"currentColor\"/>\n",
       "    <text dy=\"1.25em\" style=\"font-size: 0.8em; letter-spacing: 1px\">\n",
       "        <textPath xlink:href=\"#arrow-59a8b3c0aaa848b9af6d8e63fd5d28f5-0-2\" class=\"displacy-label\" startOffset=\"50%\" side=\"left\" fill=\"currentColor\" text-anchor=\"middle\">dobj</textPath>\n",
       "    </text>\n",
       "    <path class=\"displacy-arrowhead\" d=\"M565.0,266.5 L573.0,254.5 557.0,254.5\" fill=\"currentColor\"/>\n",
       "</g>\n",
       "\n",
       "<g class=\"displacy-arrow\">\n",
       "    <path class=\"displacy-arc\" id=\"arrow-59a8b3c0aaa848b9af6d8e63fd5d28f5-0-3\" stroke-width=\"2px\" d=\"M770,264.5 C770,89.5 1270.0,89.5 1270.0,264.5\" fill=\"none\" stroke=\"currentColor\"/>\n",
       "    <text dy=\"1.25em\" style=\"font-size: 0.8em; letter-spacing: 1px\">\n",
       "        <textPath xlink:href=\"#arrow-59a8b3c0aaa848b9af6d8e63fd5d28f5-0-3\" class=\"displacy-label\" startOffset=\"50%\" side=\"left\" fill=\"currentColor\" text-anchor=\"middle\">mark</textPath>\n",
       "    </text>\n",
       "    <path class=\"displacy-arrowhead\" d=\"M770,266.5 L762,254.5 778,254.5\" fill=\"currentColor\"/>\n",
       "</g>\n",
       "\n",
       "<g class=\"displacy-arrow\">\n",
       "    <path class=\"displacy-arc\" id=\"arrow-59a8b3c0aaa848b9af6d8e63fd5d28f5-0-4\" stroke-width=\"2px\" d=\"M945,264.5 C945,177.0 1090.0,177.0 1090.0,264.5\" fill=\"none\" stroke=\"currentColor\"/>\n",
       "    <text dy=\"1.25em\" style=\"font-size: 0.8em; letter-spacing: 1px\">\n",
       "        <textPath xlink:href=\"#arrow-59a8b3c0aaa848b9af6d8e63fd5d28f5-0-4\" class=\"displacy-label\" startOffset=\"50%\" side=\"left\" fill=\"currentColor\" text-anchor=\"middle\">det</textPath>\n",
       "    </text>\n",
       "    <path class=\"displacy-arrowhead\" d=\"M945,266.5 L937,254.5 953,254.5\" fill=\"currentColor\"/>\n",
       "</g>\n",
       "\n",
       "<g class=\"displacy-arrow\">\n",
       "    <path class=\"displacy-arc\" id=\"arrow-59a8b3c0aaa848b9af6d8e63fd5d28f5-0-5\" stroke-width=\"2px\" d=\"M1120,264.5 C1120,177.0 1265.0,177.0 1265.0,264.5\" fill=\"none\" stroke=\"currentColor\"/>\n",
       "    <text dy=\"1.25em\" style=\"font-size: 0.8em; letter-spacing: 1px\">\n",
       "        <textPath xlink:href=\"#arrow-59a8b3c0aaa848b9af6d8e63fd5d28f5-0-5\" class=\"displacy-label\" startOffset=\"50%\" side=\"left\" fill=\"currentColor\" text-anchor=\"middle\">nsubj</textPath>\n",
       "    </text>\n",
       "    <path class=\"displacy-arrowhead\" d=\"M1120,266.5 L1112,254.5 1128,254.5\" fill=\"currentColor\"/>\n",
       "</g>\n",
       "\n",
       "<g class=\"displacy-arrow\">\n",
       "    <path class=\"displacy-arc\" id=\"arrow-59a8b3c0aaa848b9af6d8e63fd5d28f5-0-6\" stroke-width=\"2px\" d=\"M420,264.5 C420,2.0 1275.0,2.0 1275.0,264.5\" fill=\"none\" stroke=\"currentColor\"/>\n",
       "    <text dy=\"1.25em\" style=\"font-size: 0.8em; letter-spacing: 1px\">\n",
       "        <textPath xlink:href=\"#arrow-59a8b3c0aaa848b9af6d8e63fd5d28f5-0-6\" class=\"displacy-label\" startOffset=\"50%\" side=\"left\" fill=\"currentColor\" text-anchor=\"middle\">advcl</textPath>\n",
       "    </text>\n",
       "    <path class=\"displacy-arrowhead\" d=\"M1275.0,266.5 L1283.0,254.5 1267.0,254.5\" fill=\"currentColor\"/>\n",
       "</g>\n",
       "</svg></span>"
      ],
      "text/plain": [
       "<IPython.core.display.HTML object>"
      ]
     },
     "metadata": {},
     "output_type": "display_data"
    },
    {
     "data": {
      "text/html": [
       "<span class=\"tex2jax_ignore\"><svg xmlns=\"http://www.w3.org/2000/svg\" xmlns:xlink=\"http://www.w3.org/1999/xlink\" xml:lang=\"en\" id=\"3da4d69a57b14bef9c2d385caa128bdc-0\" class=\"displacy\" width=\"1275\" height=\"399.5\" direction=\"ltr\" style=\"max-width: none; height: 399.5px; color: #000000; background: #ffffff; font-family: Arial; direction: ltr\">\n",
       "<text class=\"displacy-token\" fill=\"currentColor\" text-anchor=\"middle\" y=\"309.5\">\n",
       "    <tspan class=\"displacy-word\" fill=\"currentColor\" x=\"50\">cross</tspan>\n",
       "    <tspan class=\"displacy-tag\" dy=\"2em\" fill=\"currentColor\" x=\"50\">VERB</tspan>\n",
       "</text>\n",
       "\n",
       "<text class=\"displacy-token\" fill=\"currentColor\" text-anchor=\"middle\" y=\"309.5\">\n",
       "    <tspan class=\"displacy-word\" fill=\"currentColor\" x=\"225\">the</tspan>\n",
       "    <tspan class=\"displacy-tag\" dy=\"2em\" fill=\"currentColor\" x=\"225\">DET</tspan>\n",
       "</text>\n",
       "\n",
       "<text class=\"displacy-token\" fill=\"currentColor\" text-anchor=\"middle\" y=\"309.5\">\n",
       "    <tspan class=\"displacy-word\" fill=\"currentColor\" x=\"400\">road</tspan>\n",
       "    <tspan class=\"displacy-tag\" dy=\"2em\" fill=\"currentColor\" x=\"400\">NOUN</tspan>\n",
       "</text>\n",
       "\n",
       "<text class=\"displacy-token\" fill=\"currentColor\" text-anchor=\"middle\" y=\"309.5\">\n",
       "    <tspan class=\"displacy-word\" fill=\"currentColor\" x=\"575\">after</tspan>\n",
       "    <tspan class=\"displacy-tag\" dy=\"2em\" fill=\"currentColor\" x=\"575\">SCONJ</tspan>\n",
       "</text>\n",
       "\n",
       "<text class=\"displacy-token\" fill=\"currentColor\" text-anchor=\"middle\" y=\"309.5\">\n",
       "    <tspan class=\"displacy-word\" fill=\"currentColor\" x=\"750\">the</tspan>\n",
       "    <tspan class=\"displacy-tag\" dy=\"2em\" fill=\"currentColor\" x=\"750\">DET</tspan>\n",
       "</text>\n",
       "\n",
       "<text class=\"displacy-token\" fill=\"currentColor\" text-anchor=\"middle\" y=\"309.5\">\n",
       "    <tspan class=\"displacy-word\" fill=\"currentColor\" x=\"925\">car</tspan>\n",
       "    <tspan class=\"displacy-tag\" dy=\"2em\" fill=\"currentColor\" x=\"925\">NOUN</tspan>\n",
       "</text>\n",
       "\n",
       "<text class=\"displacy-token\" fill=\"currentColor\" text-anchor=\"middle\" y=\"309.5\">\n",
       "    <tspan class=\"displacy-word\" fill=\"currentColor\" x=\"1100\">pass</tspan>\n",
       "    <tspan class=\"displacy-tag\" dy=\"2em\" fill=\"currentColor\" x=\"1100\">VERB</tspan>\n",
       "</text>\n",
       "\n",
       "<g class=\"displacy-arrow\">\n",
       "    <path class=\"displacy-arc\" id=\"arrow-3da4d69a57b14bef9c2d385caa128bdc-0-0\" stroke-width=\"2px\" d=\"M245,264.5 C245,177.0 390.0,177.0 390.0,264.5\" fill=\"none\" stroke=\"currentColor\"/>\n",
       "    <text dy=\"1.25em\" style=\"font-size: 0.8em; letter-spacing: 1px\">\n",
       "        <textPath xlink:href=\"#arrow-3da4d69a57b14bef9c2d385caa128bdc-0-0\" class=\"displacy-label\" startOffset=\"50%\" side=\"left\" fill=\"currentColor\" text-anchor=\"middle\">det</textPath>\n",
       "    </text>\n",
       "    <path class=\"displacy-arrowhead\" d=\"M245,266.5 L237,254.5 253,254.5\" fill=\"currentColor\"/>\n",
       "</g>\n",
       "\n",
       "<g class=\"displacy-arrow\">\n",
       "    <path class=\"displacy-arc\" id=\"arrow-3da4d69a57b14bef9c2d385caa128bdc-0-1\" stroke-width=\"2px\" d=\"M70,264.5 C70,89.5 395.0,89.5 395.0,264.5\" fill=\"none\" stroke=\"currentColor\"/>\n",
       "    <text dy=\"1.25em\" style=\"font-size: 0.8em; letter-spacing: 1px\">\n",
       "        <textPath xlink:href=\"#arrow-3da4d69a57b14bef9c2d385caa128bdc-0-1\" class=\"displacy-label\" startOffset=\"50%\" side=\"left\" fill=\"currentColor\" text-anchor=\"middle\">dobj</textPath>\n",
       "    </text>\n",
       "    <path class=\"displacy-arrowhead\" d=\"M395.0,266.5 L403.0,254.5 387.0,254.5\" fill=\"currentColor\"/>\n",
       "</g>\n",
       "\n",
       "<g class=\"displacy-arrow\">\n",
       "    <path class=\"displacy-arc\" id=\"arrow-3da4d69a57b14bef9c2d385caa128bdc-0-2\" stroke-width=\"2px\" d=\"M595,264.5 C595,89.5 1095.0,89.5 1095.0,264.5\" fill=\"none\" stroke=\"currentColor\"/>\n",
       "    <text dy=\"1.25em\" style=\"font-size: 0.8em; letter-spacing: 1px\">\n",
       "        <textPath xlink:href=\"#arrow-3da4d69a57b14bef9c2d385caa128bdc-0-2\" class=\"displacy-label\" startOffset=\"50%\" side=\"left\" fill=\"currentColor\" text-anchor=\"middle\">mark</textPath>\n",
       "    </text>\n",
       "    <path class=\"displacy-arrowhead\" d=\"M595,266.5 L587,254.5 603,254.5\" fill=\"currentColor\"/>\n",
       "</g>\n",
       "\n",
       "<g class=\"displacy-arrow\">\n",
       "    <path class=\"displacy-arc\" id=\"arrow-3da4d69a57b14bef9c2d385caa128bdc-0-3\" stroke-width=\"2px\" d=\"M770,264.5 C770,177.0 915.0,177.0 915.0,264.5\" fill=\"none\" stroke=\"currentColor\"/>\n",
       "    <text dy=\"1.25em\" style=\"font-size: 0.8em; letter-spacing: 1px\">\n",
       "        <textPath xlink:href=\"#arrow-3da4d69a57b14bef9c2d385caa128bdc-0-3\" class=\"displacy-label\" startOffset=\"50%\" side=\"left\" fill=\"currentColor\" text-anchor=\"middle\">det</textPath>\n",
       "    </text>\n",
       "    <path class=\"displacy-arrowhead\" d=\"M770,266.5 L762,254.5 778,254.5\" fill=\"currentColor\"/>\n",
       "</g>\n",
       "\n",
       "<g class=\"displacy-arrow\">\n",
       "    <path class=\"displacy-arc\" id=\"arrow-3da4d69a57b14bef9c2d385caa128bdc-0-4\" stroke-width=\"2px\" d=\"M945,264.5 C945,177.0 1090.0,177.0 1090.0,264.5\" fill=\"none\" stroke=\"currentColor\"/>\n",
       "    <text dy=\"1.25em\" style=\"font-size: 0.8em; letter-spacing: 1px\">\n",
       "        <textPath xlink:href=\"#arrow-3da4d69a57b14bef9c2d385caa128bdc-0-4\" class=\"displacy-label\" startOffset=\"50%\" side=\"left\" fill=\"currentColor\" text-anchor=\"middle\">nsubj</textPath>\n",
       "    </text>\n",
       "    <path class=\"displacy-arrowhead\" d=\"M945,266.5 L937,254.5 953,254.5\" fill=\"currentColor\"/>\n",
       "</g>\n",
       "\n",
       "<g class=\"displacy-arrow\">\n",
       "    <path class=\"displacy-arc\" id=\"arrow-3da4d69a57b14bef9c2d385caa128bdc-0-5\" stroke-width=\"2px\" d=\"M70,264.5 C70,2.0 1100.0,2.0 1100.0,264.5\" fill=\"none\" stroke=\"currentColor\"/>\n",
       "    <text dy=\"1.25em\" style=\"font-size: 0.8em; letter-spacing: 1px\">\n",
       "        <textPath xlink:href=\"#arrow-3da4d69a57b14bef9c2d385caa128bdc-0-5\" class=\"displacy-label\" startOffset=\"50%\" side=\"left\" fill=\"currentColor\" text-anchor=\"middle\">advcl</textPath>\n",
       "    </text>\n",
       "    <path class=\"displacy-arrowhead\" d=\"M1100.0,266.5 L1108.0,254.5 1092.0,254.5\" fill=\"currentColor\"/>\n",
       "</g>\n",
       "</svg></span>"
      ],
      "text/plain": [
       "<IPython.core.display.HTML object>"
      ]
     },
     "metadata": {},
     "output_type": "display_data"
    },
    {
     "data": {
      "text/html": [
       "<span class=\"tex2jax_ignore\"><svg xmlns=\"http://www.w3.org/2000/svg\" xmlns:xlink=\"http://www.w3.org/1999/xlink\" xml:lang=\"en\" id=\"7f35411e4a8f4d83a118aeba73468be3-0\" class=\"displacy\" width=\"1450\" height=\"399.5\" direction=\"ltr\" style=\"max-width: none; height: 399.5px; color: #000000; background: #ffffff; font-family: Arial; direction: ltr\">\n",
       "<text class=\"displacy-token\" fill=\"currentColor\" text-anchor=\"middle\" y=\"309.5\">\n",
       "    <tspan class=\"displacy-word\" fill=\"currentColor\" x=\"50\">wait</tspan>\n",
       "    <tspan class=\"displacy-tag\" dy=\"2em\" fill=\"currentColor\" x=\"50\">VERB</tspan>\n",
       "</text>\n",
       "\n",
       "<text class=\"displacy-token\" fill=\"currentColor\" text-anchor=\"middle\" y=\"309.5\">\n",
       "    <tspan class=\"displacy-word\" fill=\"currentColor\" x=\"225\">for</tspan>\n",
       "    <tspan class=\"displacy-tag\" dy=\"2em\" fill=\"currentColor\" x=\"225\">ADP</tspan>\n",
       "</text>\n",
       "\n",
       "<text class=\"displacy-token\" fill=\"currentColor\" text-anchor=\"middle\" y=\"309.5\">\n",
       "    <tspan class=\"displacy-word\" fill=\"currentColor\" x=\"400\">car</tspan>\n",
       "    <tspan class=\"displacy-tag\" dy=\"2em\" fill=\"currentColor\" x=\"400\">NOUN</tspan>\n",
       "</text>\n",
       "\n",
       "<text class=\"displacy-token\" fill=\"currentColor\" text-anchor=\"middle\" y=\"309.5\">\n",
       "    <tspan class=\"displacy-word\" fill=\"currentColor\" x=\"575\">pass</tspan>\n",
       "    <tspan class=\"displacy-tag\" dy=\"2em\" fill=\"currentColor\" x=\"575\">NOUN</tspan>\n",
       "</text>\n",
       "\n",
       "<text class=\"displacy-token\" fill=\"currentColor\" text-anchor=\"middle\" y=\"309.5\">\n",
       "    <tspan class=\"displacy-word\" fill=\"currentColor\" x=\"750\">then</tspan>\n",
       "    <tspan class=\"displacy-tag\" dy=\"2em\" fill=\"currentColor\" x=\"750\">ADV</tspan>\n",
       "</text>\n",
       "\n",
       "<text class=\"displacy-token\" fill=\"currentColor\" text-anchor=\"middle\" y=\"309.5\">\n",
       "    <tspan class=\"displacy-word\" fill=\"currentColor\" x=\"925\">crossing</tspan>\n",
       "    <tspan class=\"displacy-tag\" dy=\"2em\" fill=\"currentColor\" x=\"925\">VERB</tspan>\n",
       "</text>\n",
       "\n",
       "<text class=\"displacy-token\" fill=\"currentColor\" text-anchor=\"middle\" y=\"309.5\">\n",
       "    <tspan class=\"displacy-word\" fill=\"currentColor\" x=\"1100\">the</tspan>\n",
       "    <tspan class=\"displacy-tag\" dy=\"2em\" fill=\"currentColor\" x=\"1100\">DET</tspan>\n",
       "</text>\n",
       "\n",
       "<text class=\"displacy-token\" fill=\"currentColor\" text-anchor=\"middle\" y=\"309.5\">\n",
       "    <tspan class=\"displacy-word\" fill=\"currentColor\" x=\"1275\">road</tspan>\n",
       "    <tspan class=\"displacy-tag\" dy=\"2em\" fill=\"currentColor\" x=\"1275\">NOUN</tspan>\n",
       "</text>\n",
       "\n",
       "<g class=\"displacy-arrow\">\n",
       "    <path class=\"displacy-arc\" id=\"arrow-7f35411e4a8f4d83a118aeba73468be3-0-0\" stroke-width=\"2px\" d=\"M70,264.5 C70,177.0 215.0,177.0 215.0,264.5\" fill=\"none\" stroke=\"currentColor\"/>\n",
       "    <text dy=\"1.25em\" style=\"font-size: 0.8em; letter-spacing: 1px\">\n",
       "        <textPath xlink:href=\"#arrow-7f35411e4a8f4d83a118aeba73468be3-0-0\" class=\"displacy-label\" startOffset=\"50%\" side=\"left\" fill=\"currentColor\" text-anchor=\"middle\">prep</textPath>\n",
       "    </text>\n",
       "    <path class=\"displacy-arrowhead\" d=\"M215.0,266.5 L223.0,254.5 207.0,254.5\" fill=\"currentColor\"/>\n",
       "</g>\n",
       "\n",
       "<g class=\"displacy-arrow\">\n",
       "    <path class=\"displacy-arc\" id=\"arrow-7f35411e4a8f4d83a118aeba73468be3-0-1\" stroke-width=\"2px\" d=\"M420,264.5 C420,177.0 565.0,177.0 565.0,264.5\" fill=\"none\" stroke=\"currentColor\"/>\n",
       "    <text dy=\"1.25em\" style=\"font-size: 0.8em; letter-spacing: 1px\">\n",
       "        <textPath xlink:href=\"#arrow-7f35411e4a8f4d83a118aeba73468be3-0-1\" class=\"displacy-label\" startOffset=\"50%\" side=\"left\" fill=\"currentColor\" text-anchor=\"middle\">compound</textPath>\n",
       "    </text>\n",
       "    <path class=\"displacy-arrowhead\" d=\"M420,266.5 L412,254.5 428,254.5\" fill=\"currentColor\"/>\n",
       "</g>\n",
       "\n",
       "<g class=\"displacy-arrow\">\n",
       "    <path class=\"displacy-arc\" id=\"arrow-7f35411e4a8f4d83a118aeba73468be3-0-2\" stroke-width=\"2px\" d=\"M245,264.5 C245,89.5 570.0,89.5 570.0,264.5\" fill=\"none\" stroke=\"currentColor\"/>\n",
       "    <text dy=\"1.25em\" style=\"font-size: 0.8em; letter-spacing: 1px\">\n",
       "        <textPath xlink:href=\"#arrow-7f35411e4a8f4d83a118aeba73468be3-0-2\" class=\"displacy-label\" startOffset=\"50%\" side=\"left\" fill=\"currentColor\" text-anchor=\"middle\">pobj</textPath>\n",
       "    </text>\n",
       "    <path class=\"displacy-arrowhead\" d=\"M570.0,266.5 L578.0,254.5 562.0,254.5\" fill=\"currentColor\"/>\n",
       "</g>\n",
       "\n",
       "<g class=\"displacy-arrow\">\n",
       "    <path class=\"displacy-arc\" id=\"arrow-7f35411e4a8f4d83a118aeba73468be3-0-3\" stroke-width=\"2px\" d=\"M770,264.5 C770,177.0 915.0,177.0 915.0,264.5\" fill=\"none\" stroke=\"currentColor\"/>\n",
       "    <text dy=\"1.25em\" style=\"font-size: 0.8em; letter-spacing: 1px\">\n",
       "        <textPath xlink:href=\"#arrow-7f35411e4a8f4d83a118aeba73468be3-0-3\" class=\"displacy-label\" startOffset=\"50%\" side=\"left\" fill=\"currentColor\" text-anchor=\"middle\">advmod</textPath>\n",
       "    </text>\n",
       "    <path class=\"displacy-arrowhead\" d=\"M770,266.5 L762,254.5 778,254.5\" fill=\"currentColor\"/>\n",
       "</g>\n",
       "\n",
       "<g class=\"displacy-arrow\">\n",
       "    <path class=\"displacy-arc\" id=\"arrow-7f35411e4a8f4d83a118aeba73468be3-0-4\" stroke-width=\"2px\" d=\"M70,264.5 C70,2.0 925.0,2.0 925.0,264.5\" fill=\"none\" stroke=\"currentColor\"/>\n",
       "    <text dy=\"1.25em\" style=\"font-size: 0.8em; letter-spacing: 1px\">\n",
       "        <textPath xlink:href=\"#arrow-7f35411e4a8f4d83a118aeba73468be3-0-4\" class=\"displacy-label\" startOffset=\"50%\" side=\"left\" fill=\"currentColor\" text-anchor=\"middle\">advcl</textPath>\n",
       "    </text>\n",
       "    <path class=\"displacy-arrowhead\" d=\"M925.0,266.5 L933.0,254.5 917.0,254.5\" fill=\"currentColor\"/>\n",
       "</g>\n",
       "\n",
       "<g class=\"displacy-arrow\">\n",
       "    <path class=\"displacy-arc\" id=\"arrow-7f35411e4a8f4d83a118aeba73468be3-0-5\" stroke-width=\"2px\" d=\"M1120,264.5 C1120,177.0 1265.0,177.0 1265.0,264.5\" fill=\"none\" stroke=\"currentColor\"/>\n",
       "    <text dy=\"1.25em\" style=\"font-size: 0.8em; letter-spacing: 1px\">\n",
       "        <textPath xlink:href=\"#arrow-7f35411e4a8f4d83a118aeba73468be3-0-5\" class=\"displacy-label\" startOffset=\"50%\" side=\"left\" fill=\"currentColor\" text-anchor=\"middle\">det</textPath>\n",
       "    </text>\n",
       "    <path class=\"displacy-arrowhead\" d=\"M1120,266.5 L1112,254.5 1128,254.5\" fill=\"currentColor\"/>\n",
       "</g>\n",
       "\n",
       "<g class=\"displacy-arrow\">\n",
       "    <path class=\"displacy-arc\" id=\"arrow-7f35411e4a8f4d83a118aeba73468be3-0-6\" stroke-width=\"2px\" d=\"M945,264.5 C945,89.5 1270.0,89.5 1270.0,264.5\" fill=\"none\" stroke=\"currentColor\"/>\n",
       "    <text dy=\"1.25em\" style=\"font-size: 0.8em; letter-spacing: 1px\">\n",
       "        <textPath xlink:href=\"#arrow-7f35411e4a8f4d83a118aeba73468be3-0-6\" class=\"displacy-label\" startOffset=\"50%\" side=\"left\" fill=\"currentColor\" text-anchor=\"middle\">dobj</textPath>\n",
       "    </text>\n",
       "    <path class=\"displacy-arrowhead\" d=\"M1270.0,266.5 L1278.0,254.5 1262.0,254.5\" fill=\"currentColor\"/>\n",
       "</g>\n",
       "</svg></span>"
      ],
      "text/plain": [
       "<IPython.core.display.HTML object>"
      ]
     },
     "metadata": {},
     "output_type": "display_data"
    }
   ],
   "source": [
    "# Example\n",
    "\n",
    "nlp = spacy.load(\"en_core_web_sm\")\n",
    "doc1 = nlp(\"do not cross road until the car pass\")\n",
    "doc2 = nlp(\"cross the road after the car pass\")\n",
    "doc3 = nlp(\"wait for car pass then crossing the road\")\n",
    "displacy.render(doc1, style=\"dep\", jupyter=True)\n",
    "displacy.render(doc2, style=\"dep\", jupyter=True)\n",
    "displacy.render(doc3, style=\"dep\", jupyter=True)"
   ]
  },
  {
   "cell_type": "markdown",
   "metadata": {
    "id": "2wKbZ9jsBCmw"
   },
   "source": [
    "### Parse"
   ]
  },
  {
   "cell_type": "code",
   "execution_count": 104,
   "metadata": {
    "colab": {
     "base_uri": "https://localhost:8080/"
    },
    "id": "FY6GV37PwiP4",
    "outputId": "3d9b6672-5dd5-4e14-abc1-fc1e57a292d4"
   },
   "outputs": [
    {
     "name": "stdout",
     "output_type": "stream",
     "text": [
      "['if', 'no car come']\n",
      "\n",
      "['if', 'car come', 'proceed 2']\n",
      "\n",
      "['not cross non intersection']\n",
      "\n",
      "['if', 'car come', 'wait', 'car pass', 'cross road']\n",
      "\n"
     ]
    },
    {
     "data": {
      "text/plain": [
       "['if', 'car come', 'wait', 'car pass', 'cross road']"
      ]
     },
     "execution_count": 104,
     "metadata": {},
     "output_type": "execute_result"
    }
   ],
   "source": [
    "nlp = spacy.load(\"en_core_web_sm\")\n",
    "\n",
    "def remove_unused_tags(sentence, keywords):\n",
    "    sentence = sentence.replace('-', ' ').replace('[', ' ')\n",
    "    doc = nlp(sentence)\n",
    "    neg = [\"no\", \"not\"]\n",
    "    sent = []\n",
    "    toks = []\n",
    "    tags = []\n",
    "    for token in doc:\n",
    "        if token.lemma_ in neg or token.lemma_ in keywords or token.lemma_.isnumeric():\n",
    "            sent.append(token.lemma_)\n",
    "            tags.append(token.pos_)\n",
    "        elif token.pos_ in [\"VERB\", \"NOUN\", \"ADJ\"] and token.lemma_ !=\"be\":\n",
    "            sent.append(token.lemma_)\n",
    "            tags.append(token.pos_)\n",
    "        elif \"CONJ\" in token.pos_ or \"PUNCT\" in token.pos_:\n",
    "            sent.append(token.lemma_)\n",
    "            tags.append(token.pos_)\n",
    "\n",
    "    return sent, tags\n",
    "\n",
    "def get_split_set(sent, tags):\n",
    "    split_set = set()\n",
    "    for i in range(len(tags)):\n",
    "        tag = tags[i]\n",
    "        if tag == 'PUNCT' or 'CONJ' in tag:\n",
    "            split_set.add(sent[i])\n",
    "    return split_set\n",
    "\n",
    "def extract_keyword_verb_phrase(sent, tags, split_set, keywords):\n",
    "    kvp = []\n",
    "    vp_tags = []\n",
    "    i = 0\n",
    "    while i < len(sent):\n",
    "        if sent[i] in keywords:\n",
    "            kvp.append(sent[i:i+1])\n",
    "            vp_tags.append(tags[i:i+1])\n",
    "            i += 1\n",
    "        else:\n",
    "            for j in range(i, len(sent)):\n",
    "                if sent[j] in split_set or sent[j] in keywords:\n",
    "                    kvp.append(sent[i:j])\n",
    "                    vp_tags.append(tags[i:j])\n",
    "                    if sent[j] in keywords:\n",
    "                        kvp.append(sent[j:j+1])\n",
    "                        vp_tags.append(tags[j:j+1])\n",
    "                    i = j+1\n",
    "                    break\n",
    "                if  j==len(sent)-1:\n",
    "                    kvp.append(sent[i:])\n",
    "                    vp_tags.append(tags[i:])\n",
    "                    i = j+1\n",
    "                    break\n",
    "    new_kvp, k, phrase = [], len(kvp)-1, []\n",
    "    while k >= 0:\n",
    "        phrase.insert(0, kvp[k])\n",
    "        for t in range(len(kvp[k])):\n",
    "            if vp_tags[k][t] == \"VERB\" or kvp[k][t] in keywords:\n",
    "                phrase = [word for ph in phrase for word in ph]\n",
    "                if len(phrase) > 0:\n",
    "                    new_kvp.insert(0, ' '.join(phrase))\n",
    "                phrase = []\n",
    "        k -= 1\n",
    "    return new_kvp\n",
    "\n",
    "def parse(sentence, keywords):\n",
    "    sent, tags = remove_unused_tags(sentence, keywords)\n",
    "    split_set = get_split_set(sent, tags)\n",
    "    vps = extract_keyword_verb_phrase(sent, tags, split_set, keywords)\n",
    "    print(vps)\n",
    "    print()\n",
    "    return vps\n",
    "\n",
    "keywords = {'if', 'wait', 'before', 'after'}\n",
    "\n",
    "parse(\"if there are no cars coming\", keywords)\n",
    "parse(\"if there are cars coming, proceed to [2]\", keywords)\n",
    "parse(\"do not cross on non-intersection\", keywords)\n",
    "parse(\"if there are cars coming, wait for the car passing and then cross the road\", keywords)"
   ]
  },
  {
   "cell_type": "markdown",
   "metadata": {},
   "source": [
    "### English Grammar to Transition Rules"
   ]
  },
  {
   "cell_type": "code",
   "execution_count": 107,
   "metadata": {
    "colab": {
     "base_uri": "https://localhost:8080/"
    },
    "id": "ByiXdrIl-fP5",
    "outputId": "9176fb6a-3b1f-42c7-bad2-648e3fbde8e0"
   },
   "outputs": [
    {
     "name": "stdout",
     "output_type": "stream",
     "text": [
      "['look way', 'before', 'cross road']\n",
      "\n",
      "['if', 'car come', 'wait', 'pass', 'before', 'cross road']\n",
      "\n",
      "['if', 'no car come', 'cross road']\n",
      "\n",
      "['if', 'no car come', 'proceed 2']\n",
      "\n"
     ]
    }
   ],
   "source": [
    "# transition = (starting state, target state, [input symbols], [output symbols])\n",
    "states = ['PLACEHOLDER', '[1]', '[2]', '[3]', '[4]']\n",
    "\n",
    "def is_negation(vp_1, vp_2):\n",
    "    p1, p2 = '', ''\n",
    "    for i in range(len(vp_1)):\n",
    "        if vp_1[i] == 'if':\n",
    "            p1 = vp_1[i+1]\n",
    "            break\n",
    "    for i in range(len(vp_2)):\n",
    "        if vp_2[i] == 'if':\n",
    "            p2 = vp_2[i+1]\n",
    "            break\n",
    "    p1, p2 = set(p1.split()), set(p2.split())\n",
    "    neg = [\"no\", \"not\"]\n",
    "\n",
    "    for n in neg:\n",
    "        p = p1 if len(p1) > len(p2) else p2\n",
    "        if n in p:\n",
    "            p.remove(n)\n",
    "    return p1 == p2\n",
    "\n",
    "def direct_trans(transition, verb_phrases, flag):\n",
    "    for vp in verb_phrases:\n",
    "        for token in vp:\n",
    "            if token.isnumeric():\n",
    "                transition = (transition[0], states.index('['+str(token)+']'), transition[2], [])\n",
    "                flag = True\n",
    "                return flag, transition\n",
    "    return flag, transition\n",
    "\n",
    "def self_trans(transition, verb_phrases, flag):\n",
    "    if 'wait' in verb_phrases:\n",
    "        idx = verb_phrases.index('wait')\n",
    "        condition = verb_phrases[idx + 1]\n",
    "        self_tran = (transition[0], transition[0], transition[2]+['no ' + condition], [])\n",
    "        transition[2].append(condition)\n",
    "        flag = True\n",
    "        return flag, transition, self_tran\n",
    "    return flag, transition, None\n",
    "\n",
    "def cond_trans(transition, verb_phrases, flag):\n",
    "    if 'if' in verb_phrases:\n",
    "        idx = verb_phrases.index('if')\n",
    "        condition = verb_phrases[idx + 1]\n",
    "        action = verb_phrases[idx - 1]\n",
    "        transition[2].append(condition)\n",
    "        transition[3].append(action)\n",
    "        if 'no' in condition or 'not' in condition:\n",
    "            new_cond = condition.replace('no ', '').replace('not ', '')\n",
    "        else:\n",
    "            new_cond = 'no '+condition\n",
    "        neg_tran = (transition[0], transition[1], [new_cond], [])\n",
    "        flag = True\n",
    "        return flag, transition, neg_tran\n",
    "    return flag, transition, None\n",
    "\n",
    "def transition_rule(verb_phrases, cur_state):\n",
    "    transitions = []\n",
    "    transition = (cur_state, cur_state+1, [], [])\n",
    "    flag = False\n",
    "    flag, transition, neg_tran = cond_trans(transition, verb_phrases, flag)\n",
    "    if neg_tran is not None:\n",
    "        transitions.append(neg_tran)\n",
    "    flag, transition, self_tran = self_trans(transition, verb_phrases, flag)\n",
    "    if self_tran is not None:\n",
    "        transitions.append(self_tran)\n",
    "    flag, transition = direct_trans(transition, verb_phrases, flag)\n",
    "    if flag == False:\n",
    "        transition[3].append(verb_phrases[0])\n",
    "    transitions.append(transition)\n",
    "    return transitions\n",
    "\n",
    "s1 = \"look both ways before crossing the road.\"\n",
    "s2 = \"If there are cars coming, wait for them to pass before crossing the road\"\n",
    "s3 = \"if there are no cars coming, cross the road.\"\n",
    "s4 = \"If there are no cars coming, proceed to [2].\"\n",
    "\n",
    "vp1 = parse(s1, keywords)\n",
    "vp2 = parse(s2, keywords)\n",
    "vp3 = parse(s3, keywords)\n",
    "vp4 = parse(s4, keywords)"
   ]
  },
  {
   "cell_type": "code",
   "execution_count": 108,
   "metadata": {
    "colab": {
     "base_uri": "https://localhost:8080/"
    },
    "id": "O6FYy6HZfQyo",
    "outputId": "5f9027db-8130-4520-8ab7-38e46def1feb"
   },
   "outputs": [
    {
     "data": {
      "text/plain": [
       "([(1, 2, [], ['look way'])],\n",
       " [(2, 3, ['no car come'], []),\n",
       "  (2, 2, ['car come', 'no pass'], []),\n",
       "  (2, 3, ['car come', 'pass'], ['cross road'])],\n",
       " [(3, 4, ['car come'], []), (3, 4, ['no car come'], ['cross road'])],\n",
       " [(4, 5, ['car come'], []), (4, 2, ['no car come'], [])])"
      ]
     },
     "execution_count": 108,
     "metadata": {},
     "output_type": "execute_result"
    }
   ],
   "source": [
    "transition_rule(vp1, 1), transition_rule(vp2, 2), transition_rule(vp3, 3), transition_rule(vp4, 4)"
   ]
  },
  {
   "cell_type": "markdown",
   "metadata": {},
   "source": [
    "### Build Automata"
   ]
  },
  {
   "cell_type": "code",
   "execution_count": 116,
   "metadata": {
    "colab": {
     "base_uri": "https://localhost:8080/"
    },
    "id": "8tCay5xyf5Vf",
    "outputId": "e1980888-3895-40d7-fdee-5e3a7352afb2"
   },
   "outputs": [
    {
     "name": "stdout",
     "output_type": "stream",
     "text": [
      "['look way', 'before', 'cross road']\n",
      "\n",
      "['if', 'no car come', 'proceed cross road']\n",
      "\n",
      "['if', 'car come', 'wait', 'pass', 'before', 'cross road']\n",
      "\n"
     ]
    }
   ],
   "source": [
    "def text2automata(steps, keywords):\n",
    "    states = ['PLACEHOLDER']\n",
    "    in_symbols, out_symbols = set(), set()\n",
    "    idx = 1\n",
    "    transitions = []\n",
    "    for step in steps:\n",
    "        anchor, sentence = step.split(maxsplit=1)\n",
    "        states.append(anchor)\n",
    "        vps = parse(sentence, keywords)\n",
    "        transitions += transition_rule(vps, idx)\n",
    "        idx += 1\n",
    "    for t in transitions:\n",
    "        for i in t[2]:\n",
    "            in_symbols.add(i)\n",
    "        for o in t[3]:\n",
    "            out_symbols.add(o)\n",
    "    states.append('FINAL')\n",
    "    return states, transitions, in_symbols, out_symbols\n",
    "\n",
    "steps = [\n",
    "  (\"[1] Look both ways before crossing the road.\"),\n",
    "  (\"[2] If there are no cars coming, proceed to cross the road.\"),\n",
    "  (\"[3] If there are cars coming, wait for them to pass before crossing the road.\"),\n",
    "]\n",
    "keywords = {'if', 'wait', 'until', 'before', 'after', 'once'}\n",
    "automaton = text2automata(steps, keywords)"
   ]
  },
  {
   "cell_type": "code",
   "execution_count": 117,
   "metadata": {
    "colab": {
     "base_uri": "https://localhost:8080/"
    },
    "id": "LAyUhRubhmog",
    "outputId": "8b9313ca-1df2-4c35-be7d-1ee820b6180d"
   },
   "outputs": [
    {
     "data": {
      "text/plain": [
       "(['PLACEHOLDER', '[1]', '[2]', '[3]', 'FINAL'],\n",
       " [(1, 2, [], ['look way']),\n",
       "  (2, 3, ['car come'], []),\n",
       "  (2, 3, ['no car come'], ['proceed cross road']),\n",
       "  (3, 4, ['no car come'], []),\n",
       "  (3, 3, ['car come', 'no pass'], []),\n",
       "  (3, 4, ['car come', 'pass'], ['cross road'])],\n",
       " {'car come', 'no car come', 'no pass', 'pass'},\n",
       " {'cross road', 'look way', 'proceed cross road'})"
      ]
     },
     "execution_count": 117,
     "metadata": {},
     "output_type": "execute_result"
    }
   ],
   "source": [
    "automaton # states and transitions"
   ]
  },
  {
   "cell_type": "code",
   "execution_count": 118,
   "metadata": {
    "colab": {
     "base_uri": "https://localhost:8080/"
    },
    "id": "Uk-xEO65VFUe",
    "outputId": "cfa350e9-8f9b-40fc-cf8a-1f079d125dd5"
   },
   "outputs": [
    {
     "name": "stdout",
     "output_type": "stream",
     "text": [
      "['face direction want cross road']\n",
      "\n",
      "['look left']\n",
      "\n",
      "['look right']\n",
      "\n",
      "['if', 'no car come', 'proceed 2']\n",
      "\n"
     ]
    },
    {
     "data": {
      "text/plain": [
       "(['PLACEHOLDER', '[1.1]', '[1.2]', '[1.3]', '[1.4]', 'FINAL'],\n",
       " [(1, 2, [], ['face direction want cross road']),\n",
       "  (2, 3, [], ['look left']),\n",
       "  (3, 4, [], ['look right']),\n",
       "  (4, 5, ['car come'], []),\n",
       "  (4, 2, ['no car come'], [])],\n",
       " {'car come', 'no car come'},\n",
       " {'face direction want cross road', 'look left', 'look right'})"
      ]
     },
     "execution_count": 118,
     "metadata": {},
     "output_type": "execute_result"
    }
   ],
   "source": [
    "steps = [\n",
    "  (\"[1.1] Face the direction you want to cross the road in.\"),\n",
    "  (\"[1.2] Look to the left.\"),\n",
    "  (\"[1.3] Look to the right.\"),\n",
    "  (\"[1.4] If there are no cars coming, proceed to [2].\"),\n",
    "]\n",
    "text2automata(steps, keywords)"
   ]
  },
  {
   "cell_type": "code",
   "execution_count": null,
   "metadata": {
    "id": "uJV7LhlciXs4"
   },
   "outputs": [],
   "source": []
  }
 ],
 "metadata": {
  "colab": {
   "provenance": []
  },
  "kernelspec": {
   "display_name": "Python 3 (ipykernel)",
   "language": "python",
   "name": "python3"
  },
  "language_info": {
   "codemirror_mode": {
    "name": "ipython",
    "version": 3
   },
   "file_extension": ".py",
   "mimetype": "text/x-python",
   "name": "python",
   "nbconvert_exporter": "python",
   "pygments_lexer": "ipython3",
   "version": "3.11.4"
  }
 },
 "nbformat": 4,
 "nbformat_minor": 1
}
